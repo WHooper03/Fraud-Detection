{
 "cells": [
  {
   "cell_type": "markdown",
   "id": "83aaea26",
   "metadata": {},
   "source": [
    "# Credit Card Fraud Project"
   ]
  },
  {
   "cell_type": "markdown",
   "id": "43763ddb",
   "metadata": {},
   "source": [
    "### Description"
   ]
  },
  {
   "cell_type": "markdown",
   "id": "a09dca3c",
   "metadata": {},
   "source": [
    "The aim of this project is to simulate a credit card fraud detection algorithm as close to production-quality as possible. Below you can find the project's outline:"
   ]
  },
  {
   "cell_type": "markdown",
   "id": "a02f15d3",
   "metadata": {},
   "source": [
    "### Outline"
   ]
  },
  {
   "cell_type": "markdown",
   "id": "aad75c2a",
   "metadata": {},
   "source": [
    "1. Establishing the problem\n",
    "\n",
    "2. Investigating the dataset\n",
    "    1. EDA\n",
    "    2. Outliers & Missing Values\n",
    "    3. Feature importance\n",
    "\n",
    "3. Setting baseline results\n",
    "    1. Logistic Regression\n",
    "    2. Random Forest\n",
    "\n",
    "4. Base neural network\n",
    "    1. Construction\n",
    "    2. Evaluation (loss, accuracy)\n",
    "\n",
    "5. Hyperparameter Tuning\n",
    "    1. Layers\n",
    "    2. Learning rate & optimization\n",
    "    3. Dropout rate\n",
    "    4. Batch size\n",
    "\n",
    "6. Tracking and comparison\n",
    "\n",
    "7. Future implementations\n",
    "    1. Latency improvement (TensorRT, ONNX)\n",
    "    2. Deploying considerations\n",
    "    3. Security\n",
    "\n",
    "8. Real data usefulness\n",
    "    1. Flask implementation"
   ]
  },
  {
   "cell_type": "markdown",
   "id": "caecf2f8",
   "metadata": {},
   "source": [
    "### Establishing the problem"
   ]
  },
  {
   "cell_type": "markdown",
   "id": "536aabba",
   "metadata": {},
   "source": [
    "Security.org reports that an estimated 134 million Americans have been a victim of credit card fraud. Additionally, they estimate that 62 million Americans have experienced it in the past year alone. Unfortunately, this problem is getting increasingly worse. The complexity of the situation and the constant malicious attacks that come with it mean that developing a solution is not only extremely difficult, but also needs to be adaptive to ever changing consumer habits. The goal of this project is to simulate the implementation of a (close-to) production-grade machine learning credit card fraud detection program."
   ]
  },
  {
   "cell_type": "markdown",
   "id": "a06077f1",
   "metadata": {},
   "source": [
    "### Investigating the dataset"
   ]
  },
  {
   "cell_type": "markdown",
   "id": "f3cbc0f2",
   "metadata": {},
   "source": [
    "For this machine learning project, I will be using the a fraud dataset dveloped by CiferAI, available on huggingface:"
   ]
  },
  {
   "cell_type": "markdown",
   "id": "4722f7bd",
   "metadata": {},
   "source": [
    "https://huggingface.co/datasets/CiferAI/Cifer-Fraud-Detection-Dataset-AF?utm_source=chatgpt.com"
   ]
  },
  {
   "cell_type": "markdown",
   "id": "4750977e",
   "metadata": {},
   "source": [
    "I chose this dataset for a few reasons: the data is completely synthetic and therefore anonymous, the dataset that it is based off of is widely used and available for comparison, but primarily I chose it because it is massive (20 million rows) and will provide a great basis to train what is supposed to be a highly accurate model."
   ]
  },
  {
   "cell_type": "markdown",
   "id": "149cfef7",
   "metadata": {},
   "source": []
  }
 ],
 "metadata": {
  "language_info": {
   "name": "python"
  }
 },
 "nbformat": 4,
 "nbformat_minor": 5
}
